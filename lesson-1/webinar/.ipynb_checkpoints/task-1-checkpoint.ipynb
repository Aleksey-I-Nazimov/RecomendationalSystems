{
 "cells": [
  {
   "cell_type": "markdown",
   "id": "425a10d7-caa9-4f84-abff-f528aeb4ab80",
   "metadata": {},
   "source": [
    "# Домашнее задание №1\n",
    "\n",
    "На семинаре мы проходили метрики, необходимо реализовать некоторые из них"
   ]
  },
  {
   "cell_type": "code",
   "execution_count": 17,
   "id": "6f4acf2d-e8a0-469a-8463-6dc26521c554",
   "metadata": {},
   "outputs": [],
   "source": [
    "import numpy as np\n",
    "import pandas as pd"
   ]
  },
  {
   "cell_type": "code",
   "execution_count": 18,
   "id": "9ad0aa5d",
   "metadata": {},
   "outputs": [],
   "source": [
    "recommended_list = [143, 156, 1134, 991, 27, 1543, 3345, 533, 11, 43] #id товаров\n",
    "bought_list = [521, 32, 143, 991]\n",
    "price_list = [20, 22, 11, 44, 43, 54, 67, 94, 45, 23]"
   ]
  },
  {
   "cell_type": "markdown",
   "id": "38a80a25-4ea6-49c9-a0f4-c7fc2a80dcc1",
   "metadata": {},
   "source": [
    "## Задание 1. Реализовать метрики Recall@k и  Money Recall@k\n",
    "\n",
    "*Recall* - доля рекомендованных товаров среди релевантных = Какой % купленных товаров был среди рекомендованных\n",
    "\n",
    "$$\\Large Recall@K(i) = \\frac {\\sum_{j=1}^{K}\\mathbb{1}_{r_{ij}}}{|Rel_i|}$$\n",
    "\n",
    "$\\Large |Rel_i|$ -- количество релевантных товаров для пользователя $i$\n",
    "\n",
    "$$\\Large MoneyRecall@K(i) = \\frac {\\sum_{j=1}^{K}\\mathbb{1}_{r_{ij}}\\cdot Price(j)}{\\sum_{s\\in Rel_i}Price(s)}$$\n"
   ]
  },
  {
   "cell_type": "code",
   "execution_count": 57,
   "id": "34a7db81-664c-4c9b-92c0-d565fa5487fc",
   "metadata": {},
   "outputs": [],
   "source": [
    "def to_np (list1,list2):\n",
    "    return (np.array(list1),np.array(list2))\n",
    "\n",
    "def slice_k (list_for_k,k):\n",
    "    return np.array(list_for_k[0:k])\n",
    "\n",
    "def indicator_function_for_single_user (recommended_list, bought_list):\n",
    "    recommended_list, bought_list = to_np(recommended_list, bought_list)\n",
    "    \n",
    "    indicator_array = np.isin(element=recommended_list,test_elements=bought_list)\n",
    "    indicator_array = [1 if xtr==True else 0 for xtr in indicator_array]\n",
    "    \n",
    "    print (\"Indicator array {}\".format(indicator_array))\n",
    "    return indicator_array\n",
    "\n",
    "def recall_at_k(recommended_list, bought_list, k=5):\n",
    "    \n",
    "    recommended_list, bought_list = to_np(recommended_list, bought_list)\n",
    "    user_indicator_function = indicator_function_for_single_user(recommended_list, bought_list)\n",
    "    \n",
    "    user_indicator_k = slice_k(user_indicator_function,k)\n",
    "    recall = (1.0*np.sum(user_indicator_k))/len(bought_list)\n",
    "    print (\"Indicator {}: {}\\nBought: {}\\nRecall: {}\".format(k,user_indicator_k,bought_list,recall))\n",
    "    return recall\n",
    "\n",
    "def money_recall_at_k(recommended_list, bought_list, prices_recommended, k=5):\n",
    "    \n",
    "    recommended_list, bought_list = to_np(recommended_list, bought_list)\n",
    "    prices_recommended = np.array (prices_recommended)\n",
    "    \n",
    "    user_indicator_function = indicator_function_for_single_user(recommended_list, bought_list)\n",
    "    \n",
    "    bought_prices = prices_recommended*user_indicator_function\n",
    "    bought_prices = slice_k(bought_prices,k)\n",
    "    \n",
    "    print (\"Recomendation {}\\nBought {}\\nRecomendation price {}\\nBought_prices {}\".format(recommended_list,\n",
    "                                                                                          bought_list,\n",
    "                                                                                          prices_recommended,\n",
    "                                                                                          bought_prices))\n",
    "    \n",
    "    money_recall = (1.0*np.sum(bought_prices))/np.sum(prices_recommended)\n",
    "    print (\"Money recall = {}\".format(money_recall));\n",
    "    return money_recall;\n"
   ]
  },
  {
   "cell_type": "code",
   "execution_count": 58,
   "id": "dfe672ae",
   "metadata": {},
   "outputs": [
    {
     "name": "stdout",
     "output_type": "stream",
     "text": [
      "Indicator array [1, 0, 0, 1, 0, 0, 0, 0, 0, 0]\n",
      "Indicator 5: [1 0 0 1 0]\n",
      "Bought: [521  32 143 991]\n",
      "Recall: 0.5\n",
      "Indicator array [1, 0, 0, 1, 0, 0, 0, 0, 0, 0]\n",
      "Recomendation [ 143  156 1134  991   27 1543 3345  533   11   43]\n",
      "Bought [521  32 143 991]\n",
      "Recomendation price [20 22 11 44 43 54 67 94 45 23]\n",
      "Bought_prices [20  0  0]\n",
      "Money recall = 0.04728132387706856\n"
     ]
    },
    {
     "data": {
      "text/plain": [
       "0.04728132387706856"
      ]
     },
     "execution_count": 58,
     "metadata": {},
     "output_type": "execute_result"
    }
   ],
   "source": [
    "# Testing recall:\n",
    "recall_at_k(recommended_list,bought_list)\n",
    "\n",
    "# Testing money recall:\n",
    "money_recall_at_k(recommended_list,bought_list,price_list,k=3)"
   ]
  },
  {
   "cell_type": "markdown",
   "id": "b42d4d0d-6073-47b6-ad54-586a477405e5",
   "metadata": {},
   "source": [
    "## Задание 2. Реализовать метрику MRR@k\n",
    "\n",
    "Mean Reciprocal Rank\n",
    "\n",
    "- Считаем для первых k рекоммендаций\n",
    "- Найти ранк первого релевантного предсказания $\\Large rank_j$\n",
    "- Посчитать reciprocal rank = $\\Large\\frac{1}{rank_j}$\n",
    "\n",
    "$$\\Large  ReciprocalRank(i)@k=\\frac {1}{\\min\\limits_{j\\in Rel(i)} rank_j}$$"
   ]
  },
  {
   "cell_type": "code",
   "execution_count": 59,
   "id": "9c8940da-3621-4a54-8236-810a42ed4b77",
   "metadata": {},
   "outputs": [],
   "source": [
    "def reciprocal_rank_at_k(recommended_list, bought_list, k=5):\n",
    "    \n",
    "    recommended_list, bought_list = to_np(recommended_list, bought_list)\n",
    "    user_indicator_function = indicator_function_for_single_user(recommended_list, bought_list)\n",
    "    user_indicator_function = slice_k(user_indicator_function,k)\n",
    "    \n",
    "    first_position = np.where( user_indicator_function == 1 )[0]\n",
    "    if len(first_position)==0:\n",
    "        return None;\n",
    "    else :\n",
    "        first_position=first_position[0]\n",
    "    \n",
    "    reciprocal_rank = 1.0/(1.0+first_position)\n",
    "    print (\"Indicator {}: {}\\nPosition {}\\nRank {}\".format(k,user_indicator_function,first_position,reciprocal_rank))\n",
    "    return reciprocal_rank;\n"
   ]
  },
  {
   "cell_type": "code",
   "execution_count": 60,
   "id": "bbac7c77",
   "metadata": {},
   "outputs": [
    {
     "name": "stdout",
     "output_type": "stream",
     "text": [
      "Indicator array [1, 0, 0, 1, 0, 0, 0, 0, 0, 0]\n",
      "Indicator 5: [1 0 0 1 0]\n",
      "Position 0\n",
      "Rank 1.0\n"
     ]
    },
    {
     "data": {
      "text/plain": [
       "1.0"
      ]
     },
     "execution_count": 60,
     "metadata": {},
     "output_type": "execute_result"
    }
   ],
   "source": [
    "reciprocal_rank_at_k(recommended_list, bought_list, k=5)"
   ]
  },
  {
   "cell_type": "markdown",
   "id": "1c3008cc-fd9e-44c6-8913-43d71ffb9cd7",
   "metadata": {},
   "source": [
    "## Задание 3*. Реализовать метрику nDCG@k\n",
    "Normalized discounted cumulative gain. Эту метрику реализовать будет немного сложнее.\n",
    "\n",
    "$$\\Large DCG@K(i) = \\sum_{j=1}^{K}\\frac{\\mathbb{1}_{r_{ij}}}{\\log_2 (j+1)}$$\n",
    "\n",
    "\n",
    "$\\Large \\mathbb{1}_{r_{ij}}$ -- индикаторная функция показывает что пользователь $i$ провзаимодействовал с продуктом $j$\n",
    "\n",
    "Для подсчета $nDCG$ нам необходимо найти максимально возможный $DCG$ для пользователя $i$  и рекомендаций длины $K$.\n",
    "Максимальный $DCG$ достигается когда мы порекомендовали максимально возможное количество релевантных продуктов и все они в начале списка рекомендаций.\n",
    "\n",
    "$$\\Large IDCG@K(i) = max(DCG@K(i)) = \\sum_{j=1}^{K}\\frac{\\mathbb{1}_{j\\le|Rel_i|}}{\\log_2 (j+1)}$$\n",
    "\n",
    "$$\\Large nDCG@K(i) = \\frac {DCG@K(i)}{IDCG@K(i)}$$\n",
    "\n",
    "$\\Large |Rel_i|$ -- количество релевантных продуктов для пользователя $i$\n",
    "\n"
   ]
  },
  {
   "cell_type": "code",
   "execution_count": 70,
   "id": "67d7e53c-dfd8-4423-a107-f85880a45c7e",
   "metadata": {},
   "outputs": [],
   "source": [
    "def dcg_k (recommended_list, bought_list, k=5):\n",
    "    recommended_list, bought_list = to_np(recommended_list, bought_list)\n",
    "    indicator_function = indicator_function_for_single_user(recommended_list, bought_list)\n",
    "    log_array = [index+2 for index in range(0,len(indicator_function))]\n",
    "    log_array = np.log2(log_array)\n",
    "    indicator_function = indicator_function/log_array\n",
    "    indicator_function = slice_k(indicator_function,k)\n",
    "    dcg_k=np.sum(indicator_function)\n",
    "    print (\"dcg_k={}\".format(dcg_k))\n",
    "    return dcg_k\n",
    "\n",
    "def ndcg_at_k(recommended_list, bought_list, k=5):\n",
    "    recommended_list, bought_list = to_np(recommended_list, bought_list)\n",
    "    dcg=dcg_k(recommended_list, bought_list, k)\n",
    "    idcg=dcg_k(recommended_list, bought_list, len(recommended_list))\n",
    "    ndcg=dcg/idcg\n",
    "    return ndcg\n",
    "    "
   ]
  },
  {
   "cell_type": "code",
   "execution_count": 71,
   "id": "8a49be13",
   "metadata": {},
   "outputs": [
    {
     "name": "stdout",
     "output_type": "stream",
     "text": [
      "Indicator array [1, 0, 0, 1, 0, 0, 0, 0, 0, 0]\n",
      "dcg_k=1.4306765580733931\n",
      "Indicator array [1, 0, 0, 1, 0, 0, 0, 0, 0, 0]\n",
      "dcg_k=1.4306765580733931\n",
      "Indicator array [1, 0, 0, 1, 0, 0, 0, 0, 0, 0]\n",
      "dcg_k=1.4306765580733931\n"
     ]
    },
    {
     "data": {
      "text/plain": [
       "1.0"
      ]
     },
     "execution_count": 71,
     "metadata": {},
     "output_type": "execute_result"
    }
   ],
   "source": [
    "dcg_k(recommended_list, bought_list, k=10)\n",
    "ndcg_at_k(recommended_list, bought_list, k=10)"
   ]
  },
  {
   "cell_type": "code",
   "execution_count": null,
   "id": "98a8ae0c",
   "metadata": {},
   "outputs": [],
   "source": []
  }
 ],
 "metadata": {
  "kernelspec": {
   "display_name": "Python 3 (ipykernel)",
   "language": "python",
   "name": "python3"
  },
  "language_info": {
   "codemirror_mode": {
    "name": "ipython",
    "version": 3
   },
   "file_extension": ".py",
   "mimetype": "text/x-python",
   "name": "python",
   "nbconvert_exporter": "python",
   "pygments_lexer": "ipython3",
   "version": "3.9.17"
  }
 },
 "nbformat": 4,
 "nbformat_minor": 5
}
